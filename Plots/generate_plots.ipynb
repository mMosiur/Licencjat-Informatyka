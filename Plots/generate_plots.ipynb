{
 "metadata": {
  "language_info": {
   "codemirror_mode": {
    "name": "ipython",
    "version": 3
   },
   "file_extension": ".py",
   "mimetype": "text/x-python",
   "name": "python",
   "nbconvert_exporter": "python",
   "pygments_lexer": "ipython3",
   "version": "3.9.1"
  },
  "orig_nbformat": 2,
  "kernelspec": {
   "name": "python3",
   "display_name": "Python 3.9.1 64-bit",
   "metadata": {
    "interpreter": {
     "hash": "ac59ebe37160ed0dfa835113d9b8498d9f09ceb179beaac4002f036b9467c963"
    }
   }
  }
 },
 "nbformat": 4,
 "nbformat_minor": 2,
 "cells": [
  {
   "source": [
    "# Setup"
   ],
   "cell_type": "markdown",
   "metadata": {}
  },
  {
   "cell_type": "code",
   "execution_count": null,
   "metadata": {},
   "outputs": [],
   "source": [
    "# Setup\n",
    "import matplotlib.pyplot as plt\n",
    "import pandas as pd\n",
    "import numpy as np"
   ]
  },
  {
   "cell_type": "code",
   "execution_count": null,
   "metadata": {},
   "outputs": [],
   "source": [
    "# Set destination folder for the output\n",
    "# (must end with '/' or be empty)\n",
    "output_dir = \"../Source/Images/\""
   ]
  },
  {
   "source": [
    "# Area"
   ],
   "cell_type": "markdown",
   "metadata": {}
  },
  {
   "cell_type": "code",
   "execution_count": null,
   "metadata": {},
   "outputs": [],
   "source": [
    "# Area\n",
    "plotname = \"Area\"\n",
    "\n",
    "labels = [\n",
    "    \"Business\",\n",
    "    \"Life\",\n",
    "    \"Computer\",\n",
    "    \"Social\",\n",
    "    \"Physical\"\n",
    "]\n",
    "web_hits_per_day_means = [\n",
    "    97.5026251466547,\n",
    "    46.6719117823716,\n",
    "    40.7990616728854,\n",
    "    61.1283855315268,\n",
    "    39.1768414327089\n",
    "]\n",
    "web_hits_per_day_medians = [\n",
    "    68.3113043478261,\n",
    "    29.8797767282095,\n",
    "    28.6781651376147,\n",
    "    28.0968992248062,\n",
    "    24.0927460092948\n",
    "]\n",
    "overall_mean = 48.0151966575709\n",
    "overall_median = 29.4331527591751\n",
    "\n",
    "fig, axs = plt.subplots(2, 1)\n",
    "# Plot with means\n",
    "axs[0].bar(labels, web_hits_per_day_means, label=\"Means\")\n",
    "axs[0].axhline(y = overall_mean, color = \"red\")\n",
    "# Plot with medians\n",
    "axs[1].bar(labels, web_hits_per_day_medians, label=\"Medians\")\n",
    "axs[1].axhline(y = overall_median, color = \"red\")\n",
    "plt.savefig(output_dir+plotname.replace(\" \", \"\")+\".pdf\")"
   ]
  },
  {
   "source": [
    "# Associated Tasks"
   ],
   "cell_type": "markdown",
   "metadata": {}
  },
  {
   "cell_type": "code",
   "execution_count": null,
   "metadata": {},
   "outputs": [],
   "source": [
    "# Associated Tasks\n",
    "plotname = \"Associated Tasks\"\n",
    "\n",
    "labels = [\n",
    "    \"Regression\",\n",
    "    \"Clustering\",\n",
    "    \"Classification\",\n",
    "    \"Causal-Discovery\"\n",
    "]\n",
    "web_hits_per_day_medians = [\n",
    "    42.0281437125749,\n",
    "    38.2255683546754,\n",
    "    29.4000559666687,\n",
    "    24.8001854197506\n",
    "]\n",
    "overall_median = 29.7893674150147\n",
    "\n",
    "plt.bar(labels, web_hits_per_day_medians)\n",
    "plt.axhline(y = overall_median, color=\"red\")\n",
    "plt.savefig(output_dir+plotname.replace(\" \", \"\")+\".pdf\")"
   ]
  },
  {
   "source": [
    "# Attribute Characteristics"
   ],
   "cell_type": "markdown",
   "metadata": {}
  },
  {
   "cell_type": "code",
   "execution_count": null,
   "metadata": {},
   "outputs": [],
   "source": [
    "# Attribute Characteristics\n",
    "plotname = \"Attribute Characteristics\"\n",
    "\n",
    "labels = [\n",
    "    \"Real\",\n",
    "    \"Integer\",\n",
    "    \"Categorical\"\n",
    "]\n",
    "web_hits_per_day_medians = [\n",
    "    32.7393798449612,\n",
    "    28.9011627906977,\n",
    "    16.8981441519206\n",
    "]\n",
    "overall_median = 29.5409562727882\n",
    "\n",
    "plt.axhline(y = median, color=\"red\")\n",
    "plt.bar(labels, web_hits_per_day_medians)\n",
    "plt.savefig(output_dir+plotname.replace(\" \", \"\")+\".pdf\")"
   ]
  },
  {
   "source": [
    "# Data Set Characteristics"
   ],
   "cell_type": "markdown",
   "metadata": {}
  },
  {
   "cell_type": "code",
   "execution_count": null,
   "metadata": {},
   "outputs": [],
   "source": [
    "# Data Set Characteristics\n",
    "plotname = \"Data Set Characteristics\"\n",
    "\n",
    "labels = [\n",
    "    \"Time-Series\",\n",
    "    \"Univariate\",\n",
    "    \"Multivariate\",\n",
    "    \"Sequential\",\n",
    "    \"Text\",\n",
    "    \"Domain-Theory\"\n",
    "]\n",
    "web_hits_per_day_medians = [\n",
    "    36.1556072953046,\n",
    "    31.1440015568176,\n",
    "    29.8434876210980,\n",
    "    29.1660219774022,\n",
    "    25.8350659191781,\n",
    "    18.5250873149915\n",
    "]\n",
    "overall_median = 28.9655858084115\n",
    "\n",
    "plt.axhline(y = overall_median, color=\"red\")\n",
    "plt.bar(labels, web_hits_per_day_medians)\n",
    "plt.savefig(output_dir+plotname.replace(\" \", \"\")+\".pdf\")"
   ]
  },
  {
   "source": [
    "# Missing Values"
   ],
   "cell_type": "markdown",
   "metadata": {}
  },
  {
   "cell_type": "code",
   "execution_count": null,
   "metadata": {},
   "outputs": [],
   "source": [
    "# Missing Values\n",
    "plotname = \"Missing Values\"\n",
    "\n",
    "labels = [\n",
    "    \"Yes\",\n",
    "    \"No\"\n",
    "]\n",
    "web_hits_per_day_medians = [\n",
    "    32.0568887958992,\n",
    "    16.2583589372854\n",
    "]\n",
    "overall_median = 26.4095238095238\n",
    "\n",
    "plt.axhline(y = overall_median, color=\"red\")\n",
    "plt.bar(labels, web_hits_per_day_medians)\n",
    "plt.savefig(output_dir+plotname.replace(\" \", \"\")+\".pdf\")"
   ]
  }
 ]
}