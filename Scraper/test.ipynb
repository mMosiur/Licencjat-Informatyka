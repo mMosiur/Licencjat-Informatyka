{
 "metadata": {
  "language_info": {
   "codemirror_mode": {
    "name": "ipython",
    "version": 3
   },
   "file_extension": ".py",
   "mimetype": "text/x-python",
   "name": "python",
   "nbconvert_exporter": "python",
   "pygments_lexer": "ipython3",
   "version": "3.7.8-final"
  },
  "orig_nbformat": 2,
  "kernelspec": {
   "name": "python3",
   "display_name": "Python 3.7.8 64-bit",
   "metadata": {
    "interpreter": {
     "hash": "57baa5815c940fdaff4d14510622de9616cae602444507ba5d0b6727c008cbd6"
    }
   }
  }
 },
 "nbformat": 4,
 "nbformat_minor": 2,
 "cells": [
  {
   "cell_type": "code",
   "execution_count": 154,
   "metadata": {},
   "outputs": [],
   "source": [
    "import pandas as pd"
   ]
  },
  {
   "cell_type": "code",
   "execution_count": 155,
   "metadata": {},
   "outputs": [],
   "source": [
    "data = pd.read_csv(\"databases.tsv\", sep=\"\\t\")\n"
   ]
  },
  {
   "cell_type": "code",
   "execution_count": 156,
   "metadata": {},
   "outputs": [],
   "source": [
    "data.insert(9, \"Days Available\",\n",
    "    (pd.to_datetime(\"2020-11-17\") - data[\"Date Donated\"].astype(\"datetime64\")).dt.days\n",
    ")"
   ]
  },
  {
   "source": [
    "# Convert \"Data Set Characteristics\" to indicator columns\n",
    "index = data.columns.get_loc(\"Data Set Characteristics\") + 1\n",
    "characteristics = [\"Multivariate\", \"Univariate\", \"Text\", \"Data-Generator\",\n",
    "                    \"Domain-Theory\", \"Time-Series\", \"Spatial\", \"Relational\",\n",
    "                    \"Sequential\", \"Spatio-temporal\", \"Transactional\", \"Image\"]\n",
    "for i, characteristic in enumerate(characteristics):\n",
    "    data.insert(index + i, \"Is Data Set \" + characteristic,\n",
    "        [ \"\" if s==\"nan\" else (\"Yes\" if characteristic in s else \"No\") for s in data[\"Data Set Characteristics\"].astype(str)]\n",
    "    )\n",
    "del data[\"Data Set Characteristics\"]"
   ],
   "cell_type": "code",
   "metadata": {},
   "execution_count": 157,
   "outputs": []
  },
  {
   "cell_type": "code",
   "execution_count": 158,
   "metadata": {},
   "outputs": [],
   "source": [
    "# Convert \"Attribute Characteristics\" to indicator columns\n",
    "index = data.columns.get_loc(\"Attribute Characteristics\") + 1\n",
    "attributes = [\"Categorical\", \"Integer\", \"Real\"]\n",
    "for i, attribute in enumerate(attributes):\n",
    "    data.insert(index + i, \"Has \" + attribute + \" Attributes\",\n",
    "        [ \"\" if s==\"nan\" else (\"Yes\" if attribute in s else \"No\") for s in data[\"Attribute Characteristics\"].astype(str)]\n",
    "    )\n",
    "del data[\"Attribute Characteristics\"]"
   ]
  },
  {
   "cell_type": "code",
   "execution_count": 159,
   "metadata": {},
   "outputs": [],
   "source": [
    "data.to_csv(\"extended_databases.tsv\", sep=\"\\t\", index=False, float_format='%.f')"
   ]
  },
  {
   "cell_type": "code",
   "execution_count": null,
   "metadata": {},
   "outputs": [],
   "source": []
  }
 ]
}