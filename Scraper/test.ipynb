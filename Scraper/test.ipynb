{
 "metadata": {
  "language_info": {
   "codemirror_mode": {
    "name": "ipython",
    "version": 3
   },
   "file_extension": ".py",
   "mimetype": "text/x-python",
   "name": "python",
   "nbconvert_exporter": "python",
   "pygments_lexer": "ipython3",
   "version": "3.9.0-final"
  },
  "orig_nbformat": 2,
  "kernelspec": {
   "name": "python3",
   "display_name": "Python 3.9.0 64-bit",
   "metadata": {
    "interpreter": {
     "hash": "ac59ebe37160ed0dfa835113d9b8498d9f09ceb179beaac4002f036b9467c963"
    }
   }
  }
 },
 "nbformat": 4,
 "nbformat_minor": 2,
 "cells": [
  {
   "cell_type": "code",
   "execution_count": 1,
   "metadata": {},
   "outputs": [],
   "source": [
    "import pandas as pd"
   ]
  },
  {
   "cell_type": "code",
   "execution_count": 2,
   "metadata": {},
   "outputs": [],
   "source": [
    "data = pd.read_csv(\"databases.tsv\", sep=\"\\t\")\n"
   ]
  },
  {
   "cell_type": "code",
   "execution_count": 3,
   "metadata": {},
   "outputs": [],
   "source": [
    "# Add a column with the number of days a given data set is available\n",
    "days_available_label = \"Days Available\"\n",
    "if days_available_label not in data.columns:\n",
    "    data.insert(9, days_available_label,\n",
    "        (pd.to_datetime(\"2020-11-17\") - data[\"Date Donated\"].astype(\"datetime64\")).dt.days\n",
    "    )"
   ]
  },
  {
   "cell_type": "code",
   "execution_count": 4,
   "metadata": {},
   "outputs": [],
   "source": [
    "# Add a column with the number of web hits a given data set gets per one day of it being available\n",
    "number_of_web_hits_per_day_label = \"Number of Web Hits per Day\"\n",
    "if number_of_web_hits_per_day_label not in data.columns:\n",
    "    data.insert(12, number_of_web_hits_per_day_label,\n",
    "        (pd.to_numeric(data[\"Number of Web Hits\"], downcast=\"float\") / data[days_available_label]).astype(str).replace(\"nan\", \"\")\n",
    "    )"
   ]
  },
  {
   "cell_type": "code",
   "execution_count": 5,
   "metadata": {},
   "outputs": [],
   "source": [
    "# Add a column with the number of citations a given data set gets per one day of it being available\n",
    "number_of_citations_per_day_label = \"Number of Citations per Day\"\n",
    "if number_of_citations_per_day_label not in data.columns:\n",
    "    data.insert(13, number_of_citations_per_day_label,\n",
    "        (pd.to_numeric(data[\"Number of Citations\"], downcast=\"float\") / data[days_available_label]).astype(str).replace(\"nan\", \"\")\n",
    "    )"
   ]
  },
  {
   "source": [
    "# Convert \"Data Set Characteristics\" to indicator columns\n",
    "# index = data.columns.get_loc(\"Data Set Characteristics\") + 1\n",
    "# characteristics = [\"Multivariate\", \"Univariate\", \"Text\", \"Data-Generator\",\n",
    "#                     \"Domain-Theory\", \"Time-Series\", \"Spatial\", \"Relational\",\n",
    "#                     \"Sequential\", \"Spatio-temporal\", \"Transactional\", \"Image\"]\n",
    "# for i, characteristic in enumerate(characteristics):\n",
    "#     data.insert(index + i, \"Is Data Set \" + characteristic,\n",
    "#         [ \"\" if s==\"nan\" else (\"Yes\" if characteristic in s else \"No\") for s in data[\"Data Set Characteristics\"].astype(str)]\n",
    "#     )\n",
    "# del data[\"Data Set Characteristics\"]"
   ],
   "cell_type": "code",
   "metadata": {},
   "execution_count": 6,
   "outputs": []
  },
  {
   "cell_type": "code",
   "execution_count": 7,
   "metadata": {},
   "outputs": [],
   "source": [
    "# Convert \"Attribute Characteristics\" to indicator columns\n",
    "# index = data.columns.get_loc(\"Attribute Characteristics\") + 1\n",
    "# attributes = [\"Categorical\", \"Integer\", \"Real\"]\n",
    "# for i, attribute in enumerate(attributes):\n",
    "#     data.insert(index + i, \"Has \" + attribute + \" Attributes\",\n",
    "#         [ \"\" if s==\"nan\" else (\"Yes\" if attribute in s else \"No\") for s in data[\"Attribute Characteristics\"].astype(str)]\n",
    "#     )\n",
    "# del data[\"Attribute Characteristics\"]"
   ]
  },
  {
   "cell_type": "code",
   "execution_count": 8,
   "metadata": {},
   "outputs": [],
   "source": [
    "data.to_csv(\"extended_databases.tsv\", sep=\"\\t\", index=False, float_format='%.f')"
   ]
  }
 ]
}